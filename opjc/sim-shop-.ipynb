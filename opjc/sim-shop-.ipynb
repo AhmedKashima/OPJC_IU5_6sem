{
 "cells": [
  {
   "cell_type": "markdown",
   "metadata": {},
   "source": [
    "Модель процесса обслуживания покупателей на кассах в магазине"
   ]
  },
  {
   "cell_type": "code",
   "execution_count": null,
   "metadata": {},
   "outputs": [],
   "source": [
    "# -*- coding: utf-8 -*-\n",
    "# Импорт среды SimPy\n",
    "import simpy\n",
    "# Для генерации случайных чисел\n",
    "import random\n",
    "# В этой модели полагаем, что единица модельного времени\n",
    "# соответствует 1 секунде реального времени\n",
    "# Длительность покупки\\получения услуги\n",
    "MAX_SERVICE_DURATION = 20 * 60\n",
    "# т.е. максимальная длительность обслуживания 20 мин\n",
    "MODE_SERVICE_DURATION = 7 * 60\n",
    "# индивидуальное время обслуживания треугольно распределенной\n",
    "# случайной величине на интервале [30, 20*60, 7*60]\n",
    "\n",
    "# макс.интервал до появления нового покупателя\n",
    "ARRIV_INTER = 3 * 60\n",
    "# время появления нового покупателя равномерно распределенная\n",
    "# случайная величина на интервале [0, 4 * 60]\n",
    "\n",
    "# Время работы магазина (10 часов)\n",
    "# После 10 часов работы магазин закрывают и обслуживают только оставшихся, \n",
    "# если таковые имеются\n",
    "CONSUMER_TIME = 3600 * 10\n",
    "\n",
    "# ------------ параметры для статистики --------\n",
    "quelog = [] # журнал длины очереди\n",
    "tservlog =[] # журнал пребывания в системе"
   ]
  },
  {
   "cell_type": "markdown",
   "metadata": {},
   "source": [
    "Класс описания поведения клиента"
   ]
  },
  {
   "cell_type": "code",
   "execution_count": null,
   "metadata": {},
   "outputs": [],
   "source": [
    "# Класс - покупатель магазина - логический блок-процессор\n",
    "class Client(object):\n",
    "    def __init__(self, env, res, name='client'):\n",
    "        self.name = name  # Имя покупателя, чтобы их различать\n",
    "        self.env = env  # Среда моделирования\n",
    "        self.res = res  # используемый при моделировании ресурс,- касса\n",
    "\n",
    "    def run(self):\n",
    "        # ссылка на глобальные счетчики статистики\n",
    "        # для графиков после моделирования\n",
    "        global  quelog, tservlog, rescnt\n",
    "        # человек пришел и сразу встал в очередь: она увеличилась на 1\n",
    "        # Запомним время, чтобы посчитать потом время пребывания в очереди\n",
    "        timeq = self.env.now\n",
    "        print(f\"Привет! Это {self.name} и я прибыл в магазин в {timeq} (сек)\")\n",
    "        # Запрос свободной кассы\n",
    "        with self.res.request() as req:\n",
    "            # Нет свободной кассы? в очередь\n",
    "            yield req\n",
    "            # Свободная касса появилась!\n",
    "            # Человек поступает на обслуживание и очередь уменьшается на 1\n",
    "            # запомним текущую длину очереди\n",
    "            # запомним текущее время события\n",
    "            # переменная (wait-timeq) - время, проведенное в очереди\n",
    "            wait = self.env.now\n",
    "            quelog.append((wait, len(self.res.queue)))\n",
    "            # время обслуживания - случайное число, генерируем его\n",
    "            serving_duration = int(random.triangular(30, MAX_SERVICE_DURATION, MODE_SERVICE_DURATION))\n",
    "            # обслуживаемся в кассе!\n",
    "            yield self.env.timeout(serving_duration)\n",
    "            # Обслужились и освободили кассу\n",
    "            print(f\"Я {self.name}, обслуживался {serving_duration} сек, ждал в очереди {wait-timeq} сек\")\n",
    "            # Запомним время проведенное в магазине\n",
    "            # Запомним текущее время события - клиент ушел\n",
    "            tservlog.append((self.env.now, self.env.now-timeq))\n",
    "            print(f\"Меня обслужили и сейчас (время={self.env.now}) я ушёл.\")"
   ]
  },
  {
   "cell_type": "markdown",
   "metadata": {},
   "source": [
    "Подготовка модельной среды и объявление функции-генератора клиентов"
   ]
  },
  {
   "cell_type": "code",
   "execution_count": null,
   "metadata": {},
   "outputs": [],
   "source": [
    "# Инициализация среды моделирования\n",
    "env = simpy.Environment()\n",
    "\n",
    "# Ресурс обслуживания; в данном случае - capacity - число касс,\n",
    "# которые обслуживают покупателей\n",
    "cashier = simpy.Resource(env, capacity=6)\n",
    "\n",
    "# Источник покупателей предполагает, что покупатели приходят \n",
    "# в течение 10 часов от начала работы магазина\n",
    "def source_men(env):\n",
    "    ind = 0\n",
    "    while env.now < (CONSUMER_TIME - ARRIV_INTER): # покупатели приходят 10 часов\n",
    "        ind += 1\n",
    "        yield env.timeout(random.randint(0, ARRIV_INTER))\n",
    "        man = Client(env, cashier, name=f'клиент{ind}')\n",
    "        env.process(man.run())"
   ]
  },
  {
   "cell_type": "markdown",
   "metadata": {},
   "source": [
    "Настройка параметров модели и запуск прогона"
   ]
  },
  {
   "cell_type": "code",
   "execution_count": null,
   "metadata": {},
   "outputs": [],
   "source": [
    "# инициализация датчика случайных чисел\n",
    "#random.seed(13971)\n",
    "# инициализация журналов статистики\n",
    "quelog,tservlog = [],[]\n",
    "\n",
    "# Добавляем процесс прихода покупателей в модель\n",
    "env.process(source_men(env))\n",
    "\n",
    "# Запускаем процесс моделирования, полагая, что \n",
    "# 1 ед.модельного времени = 1 секунда реального времени;\n",
    "# процесс моделирования составляет 12 часов; \n",
    "env.run(until=12 * 60 * 60)"
   ]
  },
  {
   "cell_type": "markdown",
   "metadata": {},
   "source": [
    "Подготовка статистики и вывод графиков"
   ]
  },
  {
   "cell_type": "code",
   "execution_count": null,
   "metadata": {},
   "outputs": [],
   "source": [
    "try: \n",
    "    import matplotlib.pyplot as plt\n",
    "    fig, ax = plt.subplots()\n",
    "    # График длины очереди quelog\n",
    "    ax.step([p[0] for p in quelog], [p[1] for p in quelog], label='очередь')\n",
    "    ax.set_title('Клиентов в очереди')\n",
    "    ax.set_xlabel('Время, сек')\n",
    "    ax.set_ylabel('длина очереди, #')\n",
    "    fig, bx = plt.subplots()\n",
    "    # График времени пребывания в системе tservlog\n",
    "    bx.scatter([p[0] for p in tservlog], [p[1] for p in tservlog], c='g', marker='x')\n",
    "    bx.set_title(f'Время пребывания_')\n",
    "    bx.set_xlabel('Время, сек')\n",
    "    bx.set_ylabel('Пребывание, сек')\n",
    "    plt.show()\n",
    "# --------------------------------------------------------------------------------------\n",
    "except ImportError:\n",
    "    print('without matplotlib!')"
   ]
  },
  {
   "cell_type": "code",
   "execution_count": null,
   "metadata": {},
   "outputs": [],
   "source": []
  }
 ],
 "metadata": {
  "kernelspec": {
   "display_name": "Python 3 (ipykernel)",
   "language": "python",
   "name": "python3"
  },
  "language_info": {
   "codemirror_mode": {
    "name": "ipython",
    "version": 3
   },
   "file_extension": ".py",
   "mimetype": "text/x-python",
   "name": "python",
   "nbconvert_exporter": "python",
   "pygments_lexer": "ipython3",
   "version": "3.12.3"
  },
  "vscode": {
   "interpreter": {
    "hash": "aaea06cd2337f3f1a8255382ee5a8ce2e63ade4be3aa94187189b8da1d3aff1f"
   }
  }
 },
 "nbformat": 4,
 "nbformat_minor": 4
}
