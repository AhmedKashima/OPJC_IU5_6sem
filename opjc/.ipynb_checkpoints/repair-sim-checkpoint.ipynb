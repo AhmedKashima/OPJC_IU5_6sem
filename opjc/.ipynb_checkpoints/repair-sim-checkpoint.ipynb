{
 "cells": [
  {
   "cell_type": "markdown",
   "metadata": {},
   "source": [
    "В этом примере моделируется процесс обслуживания оборудования в мастерской. \n",
    "\n",
    "Будем моделировать работу двух ремонтников, которые обслуживают станки (3D-принтеры) в мастерской.\n",
    "\n",
    "В этой модели полагаем, что единица модельного времени соответствует 1 минуте реального времени. Длительность работы модели - две недели"
   ]
  },
  {
   "cell_type": "code",
   "execution_count": 1,
   "metadata": {},
   "outputs": [],
   "source": [
    "# -*- coding: utf-8 -*-\n",
    "import random\n",
    "import simpy\n",
    "\n",
    "RANDOM_SEED = 4210\n",
    "PT_MEAN = 20.0         # среднее время изготовления детали на станке\n",
    "PT_SIGMA = 4.0         # ср.квадр.отклонение времени изготовления детали\n",
    "MTTF = 1000.0          # среднее время между поломками (Mean Time To Failure)\n",
    "REPAIR_TIME = 30.0     # среднее время ремонта станка\n",
    "NUM_MACHINES = 5       # количество станков\n",
    "WEEKS = 2              # время моделирования в неделях\n",
    "SIM_TIME = WEEKS * 7 * 24 * 60  # время моделирования в минутах\n",
    "\n",
    "fix_works =[]      # список времен \n",
    "at_work = False    # работники на работе?\n",
    "men_at_work = []   # журнал состояния ремонтников"
   ]
  },
  {
   "cell_type": "markdown",
   "metadata": {},
   "source": [
    "Модель станка состоит из двух процессов: рабочий процесс _workprocess()_ реализует фактическое поведение станка по изготовлению деталей; поломка станка периодически прерывает рабочий процесс, что имитируется сбоем _break_machine()_ .\n",
    "\n",
    "Длительность изготовления детали на 3D-принтере оценивается как нормально распределенная случайная величина со средним 20 мин и станд.отклонением 4 мин. \n",
    "\n",
    "В мастерской есть пять идентичных станков. Станки в мастерской работают непрерывно и круглосуточно 24/7. \n",
    "Станки все время могут быть заняты изготовлением деталей, но каждый станок периодически может выходить из строя и требовать обслуживания.\n",
    "Обслуживание одного станка выполняется одним ремонтником."
   ]
  },
  {
   "cell_type": "code",
   "execution_count": 2,
   "metadata": {},
   "outputs": [],
   "source": [
    "class Machine(object):\n",
    "    def __init__(self, env, num, repairman):\n",
    "        self.env = env\n",
    "        self.parts_made = 0  # количество сделанных станком деталей\n",
    "        self.broken = False  # станок не сломан!\n",
    "        self.ID = num+1  # идентификатор станка\n",
    "        self.repair_cnt = 0  # количество ремонтов станка\n",
    "        self.totalFixDuration = 0  # общая длительность ремонтов\n",
    "        self.totalFailureDuration = 0  # общая длительность простоев\n",
    "        # запуск процессов работы и поломки станка\n",
    "        self.workprocess = env.process(self.working(repairman))\n",
    "        env.process(self.break_machine())\n",
    "\n",
    "    def working(self, repairman):\n",
    "        while True:\n",
    "            # начало изготовления новой детали\n",
    "            self.done_time = random.normalvariate(PT_MEAN, PT_SIGMA)\n",
    "            while self.done_time:\n",
    "                try:\n",
    "                   # делаем деталь\n",
    "                   self.start_work = self.env.now\n",
    "                   yield self.env.timeout(self.done_time)\n",
    "                   self.done_time = 0  # деталь доделана! =0\n",
    "                except simpy.Interrupt:\n",
    "                    self.broken = True  # станок сломан!\n",
    "                    self.break_time = self.env.now  # время поломки станка\n",
    "                    self.done_time -= self.env.now - self.start_work  # сколько времени осталось доделать деталь\n",
    "                    with repairman.request(priority=10) as req:  # требуется ремонтник\n",
    "                        yield req  # будем ждать ремонтника\n",
    "                        self.repair_cnt +=1  # начался новый ремонт\n",
    "                        self.fix_time = self.env.now  # время начала ремонта\n",
    "                        yield self.env.timeout(random.uniform(REPAIR_TIME-10,REPAIR_TIME+10)) # длительность\n",
    "                    self.broken = False   # станок восстановлен!\n",
    "                    self.fix_duration =int(self.env.now - self.fix_time)  # длительность ремонта\n",
    "                    self.failure_duration =int(self.env.now - self.break_time)  # длительность простоя из-за поломки\n",
    "                    self.totalFixDuration +=self.fix_duration  # накопим общую длительность всех ремонтов\n",
    "                    self.totalFailureDuration +=self.failure_duration  # накопим общую длительность всех простоев\n",
    "\n",
    "            self.parts_made += 1  # станок сделал деталь\n",
    "\n",
    "    def break_machine(self):\n",
    "        # поломка станка\n",
    "        while True:\n",
    "           yield self.env.timeout(random.expovariate(1.0/MTTF))\n",
    "           # не надо ломать уже поломанный станок!!\n",
    "           if not self.broken: self.workprocess.interrupt()"
   ]
  },
  {
   "cell_type": "markdown",
   "metadata": {},
   "source": [
    "Ремонтники работают по одной рабочей смене – 8 часов в день. \n",
    "Ремонт станка имеет приоритет 10, в то время как отдых имеет приоритет 1 (в simpy чем меньше число, тем выше приоритет)."
   ]
  },
  {
   "cell_type": "code",
   "execution_count": 3,
   "metadata": {},
   "outputs": [],
   "source": [
    "def work_sched(env, repairman):\n",
    "    global at_work, men_at_work\n",
    "    rep =[0,]*repairman.capacity # список токенов \"отдыха\" ремонтников!\n",
    "    # ремонтник выйдет на работу в 8ч\n",
    "    # флаг - не работаю!\n",
    "    at_work = False\n",
    "    day_start = 8*60\n",
    "    # до 8ч - отдых!\n",
    "    # ремонтник \"занят\" отдыхом\n",
    "    for r in range(repairman.capacity):\n",
    "       rep[r] = repairman.request(priority=1)\n",
    "       yield rep[r]\n",
    "    men_at_work.append((int(at_work),env.now)) # запишем в журнал\n",
    "    while True:\n",
    "        # начинает новый день\n",
    "        yield env.timeout(day_start)\n",
    "        # ремонтник не \"занят\" отдыхом!\n",
    "        for r in range(repairman.capacity):\n",
    "            repairman.release(rep[r])\n",
    "        # флаг - на работе!\n",
    "        at_work = True\n",
    "        day_work = 8*60  # длительность рабочего дня\n",
    "        # рабочее время началось\n",
    "        startworkperiod = env.now\n",
    "        men_at_work.append((int(at_work),startworkperiod)) # запишем в журнал\n",
    "        yield env.timeout(day_work)\n",
    "        # флаг - не работаю!\n",
    "        at_work = False\n",
    "        # рабочее время закончилось,\n",
    "        # ремонтник \"занят\" отдыхом\n",
    "        for r in range(repairman.capacity):\n",
    "           rep[r] = repairman.request(priority=1)\n",
    "           yield rep[r]\n",
    "        men_at_work.append((int(at_work),env.now)) # запишем в журнал\n",
    "        # может быть переработка! поэтому\n",
    "        # посчитаем начало след.рабочего дня через сутки\n",
    "        day_start = (24-8)*60 -(env.now -startworkperiod -day_work)"
   ]
  },
  {
   "cell_type": "markdown",
   "metadata": {},
   "source": [
    "Заготовка процесса мониторинга _(пока не используется?)_"
   ]
  },
  {
   "cell_type": "code",
   "execution_count": 4,
   "metadata": {},
   "outputs": [],
   "source": [
    "# специальная функция для сбора данных\n",
    "#def monitor(ev):\n",
    "#   global men_at_work, fix_works\n",
    "#   while True:\n",
    "#      # запишем в журнал: (время, номер поломки, длительность ремонта, длительность поломки, состояние работника)\n",
    "#      fix_works.append((ev.now, _))\n",
    "#      yield ev.timeout(5.0)"
   ]
  },
  {
   "cell_type": "markdown",
   "metadata": {},
   "source": [
    "Объявляем ресурс - ремонтник. Регистрируем процессы работы станков и расписание ремонтников. Запускаем модель"
   ]
  },
  {
   "cell_type": "code",
   "execution_count": null,
   "metadata": {},
   "outputs": [],
   "source": [
    "# настройка и выполнение модели\n",
    "# random.seed(RANDOM_SEED)  # начальное значение ДСЧ\n",
    "# создание среды и настройка процессов модели\n",
    "env = simpy.Environment()\n",
    "\n",
    "repairmen = simpy.PriorityResource(env, capacity=2)\n",
    "machines = [Machine(env, i, repairmen) for i in range(NUM_MACHINES)]\n",
    "env.process(work_sched(env, repairmen))\n",
    "men_at_work = []   # журнал состояния ремонтников\n",
    "# запуск модели\n",
    "env.run(until=SIM_TIME)\n",
    "\n",
    "# вывод результатов\n",
    "print(f'Результаты работы цеха за {WEEKS} недели/ {SIM_TIME} мин')\n",
    "for m in machines:  print(f'станок Prn_{m.ID} сделал {m.parts_made} деталей, прошел {m.repair_cnt} ремонтов')\n",
    "print('Общее время простоев станков:', sum([m.totalFailureDuration for m in machines]))\n",
    "print('Общее время ремонтов станков:', sum([m.totalFixDuration for m in machines]))"
   ]
  },
  {
   "cell_type": "markdown",
   "metadata": {},
   "source": [
    "Построим графики состояния станков и ресурсов"
   ]
  },
  {
   "cell_type": "code",
   "execution_count": null,
   "metadata": {},
   "outputs": [],
   "source": [
    "import matplotlib.pyplot as plt\n",
    "\n",
    "fig, ax = plt.subplots() # диаграммы на одну панель\n",
    "fig.set_figwidth(12)    #  ширина и\n",
    "fig.set_figheight(2)   #  высота \"Figure\"\n",
    "fig.set_facecolor('peachpuff')\n",
    "# График состояния работника\n",
    "ax.step([p[1] for p in men_at_work],[p[0] for p in men_at_work], lw=2,c='violet')\n",
    "ax.set_title('режим работы')\n",
    "ax.set_xlabel('время, час',loc='right')\n",
    "ax.set_ylabel('состояние')\n",
    "ax.set_yticks([0,1],['работа','отдых'])\n",
    "ax.set_xticks([0,24*60,48*60,72*60,96*60,120*60,144*60,168*60,192*60,216*60,240*60,264*60,288*60],\n",
    "              ['0','24','48','72','96','120','144','168','192','216','240','264','288'])\n",
    "# диаграмма сделанных деталей\n",
    "lab, val =[],[]\n",
    "for m in machines:\n",
    "   lab.append(f'Eqp_{(m.ID)}\\n{m.parts_made}')\n",
    "   val.append(m.parts_made)\n",
    "fig, bx = plt.subplots(1,4) # 4 диаграммы на одну панель в 1 ряд\n",
    "fig.set_figwidth(15)    #  ширина и\n",
    "fig.set_figheight(10)   #  высота \"Figure\"\n",
    "bx[0].set_title('сделано деталей')\n",
    "bx[0].pie(val, labels=lab, wedgeprops=dict(width=0.4,edgecolor='w'))\n",
    "# диаграмма сделанных ремонтов\n",
    "bx[1].set_title('кол-во ремонтов')\n",
    "bx[1].pie(val, labels=lab, wedgeprops=dict(width=0.7,edgecolor='black'))\n",
    "# диаграмма длит. ремонтов\n",
    "bx[2].set_title('длит.ремонтов')\n",
    "bx[2].pie(val, labels=lab, wedgeprops=dict(width=1,edgecolor='y'))\n",
    "# диаграмма сделанных простоев\n",
    "bx[3].set_title('длит.простоев')\n",
    "bx[3].pie(val, labels=lab, counterclock=False)\n",
    "\n",
    "plt.show()\n",
    "#plt.savefig('grafik.pdf', format='pdf', bbox_inches='tight')"
   ]
  }
 ],
 "metadata": {
  "kernelspec": {
   "display_name": "Python 3",
   "language": "python",
   "name": "python3"
  },
  "language_info": {
   "codemirror_mode": {
    "name": "ipython",
    "version": 3
   },
   "file_extension": ".py",
   "mimetype": "text/x-python",
   "name": "python",
   "nbconvert_exporter": "python",
   "pygments_lexer": "ipython3",
   "version": "3.12.7"
  }
 },
 "nbformat": 4,
 "nbformat_minor": 2
}
